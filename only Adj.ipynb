{
 "cells": [
  {
   "cell_type": "markdown",
   "metadata": {},
   "source": [
    "### Parsing to get the set of adjective\n"
   ]
  },
  {
   "cell_type": "code",
   "execution_count": 1,
   "metadata": {
    "collapsed": false
   },
   "outputs": [
    {
     "name": "stdout",
     "output_type": "stream",
     "text": [
      "['false', 'honor', 'poor', 'ridiculous', 'disappointed', 'good', 'luck', 'consistently', 'overpriced', 'approve', 'important', 'loyal', 'promised', 'protect', 'reputation', 'denied', 'unhappy', 'easy', 'like', 'nice', 'pretty', 'reasonably', 'right', 'well', 'work', 'crap', 'problem', 'top', 'blunt', 'bs', 'delayed', 'lost', 'mistake', 'sarcasm', 'stupid', 'sucks', 'wrong', 'dissatisfied', 'horrible', 'great', 'clueless', 'froze', 'funny', 'pathetic', 'problems', 'unfortunately', 'worthless', 'happy', 'promises', 'refund', 'criminal', 'denying', 'error', 'nightmare', 'sarcastically', 'stealing', 'unnoticed', 'available', 'shame', 'decent', 'pleasure', 'willing', 'bad', 'bait', 'disagree', 'refuse', 'sorry', 'terrible', 'amazing', 'free', 'drastically', 'slowest', 'downhill', 'loved', 'love', 'refunded', 'beware', 'scam', 'scared', 'sharp', 'screwed', 'failed', 'guarantee', 'protection', 'damage', 'damaged', 'disgusted', 'ignore', 'improper', 'incomplete', 'issue', 'lack', 'rail', 'encourage', 'complain', 'expensive', 'manipulation', 'punish', 'benefits', 'expire', 'genuine', 'honest', 'perfectly', 'trust', 'worked', 'works', 'abusive', 'dangerous', 'defective', 'hurts', 'knock', 'misfortune', 'refusal', 'refused', 'ruined', 'stranger', 'better', 'miss', 'negative', 'revenge', 'suck', 'incorrect', 'strain', 'worst', 'misfit', 'bargain', 'benefit', 'best', 'cheaper', 'cheapest', 'easier', 'exceeded', 'fair', 'fairly', 'famous', 'friendly', 'prefer', 'quicker', 'timely', 'wonder', 'worth', 'errors', 'fails', 'issues', 'limited', 'messing', 'missed', 'mistakes', 'faster', 'falling', 'garbage', 'mess', 'ruin', 'unbelievable', 'ethical', 'trustworthy', 'hell', 'rip', 'rude', 'unethical', 'steal', 'clearly', 'annoyed', 'fault', 'shit', 'stolen', 'pardon', 'positive', 'concerned', 'torment', 'unpleasant', 'losses', 'recommend', 'fake', 'joke', 'losing', 'loss', 'fail', 'excited', 'generous', 'excuses', 'insensitive', 'unacceptable', 'fine', 'support', 'awful', 'slave', 'skilled', 'demoralize', 'excuse', 'mar', 'refuses', 'scum', 'sue', 'biased', 'worse', 'sloppy', 'dispute', 'split', 'deceptive', 'lie', 'stuck', 'unwilling', 'shoddy', 'lied', 'bother', 'inconvenience', 'appalling', 'correct', 'correctly', 'enjoyed', 'gladly', 'wow', 'dismay', 'doubt', 'heck', 'incompetent', 'lame', 'randomly', 'warned', 'disgraceful', 'fast', 'suffered', 'favor', 'horrific', 'commitment', 'cheated', 'unresponsive', 'sweet', 'fraud', 'merry', 'sad', 'inaccurate', 'upgraded', 'insult', 'lies', 'retarded', 'advanced', 'enough', 'impressed', 'misinformed', 'meaningful', 'isolated', 'indifferent', 'rectify', 'pure', 'satisfactory', 'helping', 'honored', 'grand', 'competitive', 'drawbacks', 'hard', 'steals', 'regret', 'impractical', 'avid', 'hilarious', 'reasonable', 'cheap', 'complaints', 'insane', 'shock', 'wasted', 'appreciate', 'confident', 'diligently', 'easiest', 'fastest', 'hot', 'patience', 'qualify', 'broken', 'concerns', 'troubles', 'unable', 'horrid', 'messed', 'dies', 'risk', 'grief', 'fulfillment', 'proving', 'superior', 'flabbergasted', 'hang', 'infuriating', 'nonsense', 'wasting', 'trusted', 'broke', 'complaining', 'unskilled', 'abuse', 'excessive', 'vague', 'vindictive', 'profanity', 'sink', 'vanity', 'supporting', 'ripoff', 'sensitive', 'unreliable', 'clear', 'diappointed', 'rejected', 'insulting', 'happily', 'pleasant', 'savvy', 'curt', 'deny', 'fruitless', 'unavailable', 'appeal', 'helped', 'liked', 'proper', 'disregard', 'dumb', 'tricked', 'awe', 'idiots', 'wise', 'lose', 'attractive', 'arbitrary', 'blame', 'delay', 'punitive', 'monstrosity', 'illusion', 'inadequate', 'poorest', 'valuable', 'honorable', 'blah', 'dishonest', 'greedy', 'helpful', 'dirty', 'pleasing', 'difficult', 'hassle', 'asinine', 'impossible', 'junk', 'ridicules', 'interests', 'lead', 'dishonesty', 'greed', 'inferior', 'ripped', 'wonderful', 'slow', 'bothered', 'dislike', 'smooth', 'afraid', 'freaking', 'denial', 'idiot', 'stinks', 'trick', 'complaint', 'smell', 'convenience', 'convenient', 'misuse', 'cold', 'perfect', 'stole', 'warning', 'tentatively', 'frozen', 'coherent', 'consistent', 'blasted', 'blow', 'fraudulent', 'notorious', 'punishable', 'smug', 'trap', 'headache', 'shameful', 'tank', 'fell', 'poorly', 'fuck', 'enjoy', 'saver', 'super', 'delaying', 'delays', 'excessively', 'ironically', 'perturbed', 'upset', 'worry', 'complained', 'oversight', 'innocuous', 'lucky', 'egregious', 'needless', 'unfortunate', 'frustrated', 'loose', 'protective', 'success', 'undamaged', 'bent', 'crushed', 'cussed', 'deaf', 'mangled', 'oddly', 'sick', 'tired', 'trouble', 'fortune', 'nonexistent', 'assure', 'polite', 'progress', 'confusion', 'interesting', 'mislead', 'ignorant', 'negligent', 'nonresponsive', 'noble', 'erratic', 'secure', 'crooked', 'securely', 'cloud', 'cracked', 'enjoying', 'beg', 'blatantly', 'painful', 'ridiculously', 'scratches', 'shocked', 'advantage', 'foolishly', 'uninformed', 'useless', 'properly', 'thank', 'terribly', 'efficient', 'disappointment', 'endorse', 'harsh', 'reliable', 'incompetence', 'openly', 'favorite', 'misrepresentation', 'deteriorating', 'waste', 'restrict', 'failure', 'spite', 'absurd', 'deceitful', 'furious', 'pointless', 'shady', 'cheating', 'lying', 'crappy', 'confidence', 'arrogant', 'crooks', 'disappointing', 'fiasco', 'falsely', 'rot', 'abysmal', 'annoying', 'slap', 'ugh', 'lighter', 'upsetting', 'accurate', 'remedy', 'strict', 'regard', 'exhorbitant', 'safe', 'sincerely', 'loyalty', 'evil', 'impose', 'privilege', 'discrimination', 'outrageous', 'pleased', 'offending', 'violation', 'incredibly', 'questionable', 'ready', 'dissapointed', 'suffers', 'unreasonable', 'unhelpful', 'glad', 'patiently', 'captivate', 'condescending', 'excellent', 'savings', 'expired', 'headaches', 'marginal', 'proud', 'qualified', 'grossly', 'scuffs', 'unprepared', 'hate', 'fist', 'obscenity', 'faith', 'penalty', 'equitable', 'leverage', 'pains', 'pales', 'guilty', 'patronize', 'hung', 'scratched', 'supported', 'burned', 'disgusting', 'outstanding', 'stress', 'untrustworthy', 'mocked', 'weary', 'respect', 'refusing', 'grateful', 'instantly', 'safely', 'satisfy', 'harm', 'mishap', 'understandable', 'unsure', 'ruining', 'redeem', 'measly', 'invincible', 'crack', 'defect', 'promptly', 'blister', 'sorely', 'amazes', 'redemption', 'simpler', 'disgruntled', 'failures', 'irresponsible', 'scary', 'decency', 'dead', 'limit', 'sleazy', 'led', 'cheer', 'effectively', 'enjoyment', 'angry', 'dubious', 'improperly', 'ineptitude', 'breaking', 'rejection', 'unqualified', 'goof', 'patient', 'quiet', 'approval', 'rash', 'disapointed', 'vent', 'suspicious', 'crazy', 'impersonal', 'biting', 'injury', 'apprehensions', 'boycott', 'defects', 'hesitant', 'penalize', 'odd', 'sadly', 'effective', 'extraordinary', 'inevitable', 'authentic', 'responsibly', 'illegal', 'appropriate', 'continuity', 'concern', 'glitch', 'soft', 'frustration', 'discontinued', 'restriction', 'liar', 'clarity', 'fortunate', 'bullshit', 'difficulty', 'disaster', 'cheery', 'daring', 'maddening', 'badly', 'declining', 'reputable', 'damned', 'honoring', 'promise', 'blind', 'sucked', 'addicted', 'foolish', 'difficulties', 'selective', 'dark', 'break', 'drain', 'invalid', 'bogus', 'dishonestly', 'jerk', 'reward', 'loses', 'ecstatic', 'fantastic', 'happier', 'readily', 'complains', 'insignificant', 'unexpectedly', 'unnecessary', 'smart', 'lure', 'strange', 'ignorance', 'satisfied', 'displeased', 'incorrectly', 'unlucky', 'awesome', 'trusting', 'mistaken', 'confused', 'slut', 'craps', 'vice', 'premier', 'ashamed', 'draconian', 'prisoner', 'swindle', 'frown', 'irate', 'irritated', 'tumbled', 'audacity', 'insufficient', 'farce', 'miscellaneous', 'debt', 'delinquent', 'master', 'suitable', 'abused', 'collapse', 'liars', 'sneaky', 'struck', 'genius', 'corruption', 'bonus', 'faithful', 'rightfully', 'shortage', 'pain', 'champion', 'amazed', 'boom', 'smarter', 'death', 'losers', 'lousy', 'critical', 'refreshed', 'classic', 'popular', 'proven', 'recommendation', 'discriminate', 'fallen', 'idle', 'ridicule', 'troubling', 'unfulfilled', 'greatest', 'refreshing', 'picky', 'likes', 'conveniently', 'cleared', 'alienate', 'rapid', 'accuse', 'disputed', 'misleading', 'fall', 'amazement', 'dents', 'indiscriminate', 'indiscriminately', 'prompt', 'deteriorate', 'toll', 'integrated', 'significant', 'sincere', 'variety', 'welcome', 'disservice', 'misunderstanding', 'unlikely', 'morons', 'helpless', 'impolite', 'plague', 'burden', 'mysterious', 'mysteriously', 'inability', 'frustrating', 'uncaring', 'discourage', 'malicious', 'suspicion', 'drag', 'undocumented', 'feeble', 'flimsy', 'compact', 'improved', 'unreachable', 'bitter', 'damn', 'responsive', 'miraculously', 'appreciates', 'coarse', 'decline', 'facilitate', 'deluded', 'bastards', 'utterly', 'adequate', 'substandard', 'died', 'mad', 'monumental', 'aggravation', 'indifference', 'entice', 'kills', 'convience', 'fortunately', 'ironic', 'smells', 'dissatisfaction', 'insulted', 'miserably', 'unscrupulous', 'contradict', 'eminent', 'abrupt', 'concession', 'ploy', 'shabby', 'gained', 'deceit', 'concessions', 'accessible', 'bankrupt', 'bothers', 'inflated', 'denies', 'phony', 'rogue', 'golden', 'worthy', 'winner', 'convoluted', 'cruel', 'failing', 'stingy', 'struggled', 'supports', 'won', 'conflicting', 'pricey', 'panic', 'calm', 'anger', 'curse', 'enraging', 'inconceivable', 'confuse', 'unclear', 'gripe', 'struggles', 'successfully', 'transparent', 'commonplace', 'scams', 'tanks', 'complex', 'misrepresent', 'urgent', 'botch', 'suffer', 'improves', 'fun', 'fumble', 'flaw', 'dented', 'hostage', 'afford', 'privileged', 'distraught', 'horrendous', 'improvement', 'moron', 'bright', 'awsome', 'dumbfounded', 'knife', 'resent', 'incredible', 'disappoint', 'gold', 'declines', 'slower', 'bump', 'inept', 'lengthy', 'puzzled', 'disagreement', 'impressive', 'strictly', 'overwhelming', 'promising', 'supportive', 'paradise', 'powerful', 'efficiently', 'brilliant', 'sturdy', 'accurately']\n",
      "The computational time is 14.071993\n"
     ]
    }
   ],
   "source": [
    "import time\n",
    "time_start = time.clock()\n",
    "import re\n",
    "import pickle\n",
    "import string\n",
    "import csv\n",
    "\n",
    "def splitString(line):\n",
    "\t# removing punctuation, making all lowercase, and spliting line into a list of words, called 'wordsInReview'\n",
    "\tline.translate(None, string.punctuation)\n",
    "\tmyLine = line.translate(string.maketrans(\"\",\"\"), string.punctuation)\n",
    "\tlineLowerCase = myLine.lower()\n",
    "\twordsInReview = lineLowerCase.split()\t# split string into array\n",
    "\n",
    "\treturn wordsInReview\n",
    "\n",
    "def parseAdj(wordsInReview):\n",
    "\t# finding adjectives within review\n",
    "\tadjectives = [x for x in allWordsList if x in wordsInReview]\n",
    "\n",
    "\t# adding adjectives to list without repeats\n",
    "\tfor element in adjectives:\n",
    "\t\tif element not in allAdjList:\n",
    "\t\t\tallAdjList.append(element)\n",
    "\treturn allAdjList\n",
    "\n",
    "## Open the file with read only permit\n",
    "fallComments = open('AllComments.csv','r')\n",
    "posWordArr = [posWord.rstrip('\\n') for posWord in open('2006_positiveWords.txt')]\n",
    "negWordArr = [negWord.rstrip('\\n') for negWord in open('4783_negativeWords.txt')]\n",
    "allWordsList = posWordArr + negWordArr\n",
    "\n",
    "allAdjList = []\n",
    "\n",
    "## Read the first line\n",
    "line = fallComments.readline()\n",
    "while line:\n",
    "\twordsInReview = splitString(line)\n",
    "\tallAdjList = parseAdj(wordsInReview)\n",
    "\tline = fallComments.readline()\n",
    "\n",
    "print allAdjList\n",
    "    \n",
    "\n",
    "fallComments.close()\n",
    "time_elapsed = (time.clock() - time_start)\n",
    "print (\"The computational time is %f\") % time_elapsed"
   ]
  },
  {
   "cell_type": "markdown",
   "metadata": {},
   "source": [
    "### Data preprocessing"
   ]
  },
  {
   "cell_type": "code",
   "execution_count": 2,
   "metadata": {
    "collapsed": false
   },
   "outputs": [
    {
     "name": "stdout",
     "output_type": "stream",
     "text": [
      "The computational time is 4.255637\n"
     ]
    }
   ],
   "source": [
    "time_start = time.clock()\n",
    "import pandas as pd       \n",
    "data = pd.read_csv('D:\\ML\\mixData.csv')\n",
    "from bs4 import BeautifulSoup\n",
    "import re\n",
    "import nltk\n",
    "from nltk.stem.snowball import EnglishStemmer\n",
    "st = EnglishStemmer()\n",
    "#nltk.download()\n",
    "from nltk.corpus import stopwords # Import the stop word list\n",
    "def review_to_words( raw_review ):\n",
    "    # 1. Remove HTML\n",
    "    review_text = BeautifulSoup(raw_review, \"lxml\").get_text() \n",
    "    # 2. Remove non-letters        \n",
    "    letters_only = re.sub(\"[^a-zA-Z]\", \" \", review_text) \n",
    "    # 3. Convert to lower case, split into individual words\n",
    "    words = letters_only.lower().split()                             \n",
    "    # 4. Convert the stop words to a set\n",
    "    stops = set(stopwords.words(\"english\"))                  \n",
    "    # 5. Remove stop words and tranform the words to their stem \n",
    "    meaningful_words = [w for w in words if not w in stops]\n",
    "    stem_words = []\n",
    "    num_meanWords = len(meaningful_words)\n",
    "    for i in xrange( 0, num_meanWords):\n",
    "        w = st.stem(meaningful_words[i])\n",
    "        stem_words.append(w)\n",
    "    # 6. Join the words back into one string separated by space, \n",
    "    # and return the result.\n",
    "    return( \" \".join( stem_words )) \n",
    "    \n",
    "num_reviews = data[\"review\"].size\n",
    "\n",
    "\n",
    "clean_train_reviews = []\n",
    "for i in xrange( 0, num_reviews ):\n",
    "    clean_train_reviews.append( review_to_words( data[\"review\"][i] ) )\n",
    "    \n",
    "time_elapsed = (time.clock() - time_start)\n",
    "print (\"The computational time is %f\") % time_elapsed"
   ]
  },
  {
   "cell_type": "markdown",
   "metadata": {},
   "source": [
    "### Create the feature by using only adjective"
   ]
  },
  {
   "cell_type": "code",
   "execution_count": 3,
   "metadata": {
    "collapsed": false
   },
   "outputs": [
    {
     "name": "stdout",
     "output_type": "stream",
     "text": [
      "(790L, 884L)\n",
      "The computational time is 0.113517\n"
     ]
    }
   ],
   "source": [
    "time_start = time.clock()\n",
    "from sklearn.feature_extraction.text import CountVectorizer\n",
    "vectorizer = CountVectorizer(vocabulary = allAdjList)\n",
    "train_data_features = vectorizer.fit_transform(clean_train_reviews)\n",
    "\n",
    "train_data_features = train_data_features.toarray()\n",
    "print train_data_features.shape\n",
    "\n",
    "time_elapsed = (time.clock() - time_start)\n",
    "print (\"The computational time is %f\") % time_elapsed"
   ]
  },
  {
   "cell_type": "code",
   "execution_count": 4,
   "metadata": {
    "collapsed": false,
    "scrolled": true
   },
   "outputs": [
    {
     "name": "stdout",
     "output_type": "stream",
     "text": [
      "['false', 'honor', 'poor', 'ridiculous', 'disappointed', 'good', 'luck', 'consistently', 'overpriced', 'approve', 'important', 'loyal', 'promised', 'protect', 'reputation', 'denied', 'unhappy', 'easy', 'like', 'nice', 'pretty', 'reasonably', 'right', 'well', 'work', 'crap', 'problem', 'top', 'blunt', 'bs', 'delayed', 'lost', 'mistake', 'sarcasm', 'stupid', 'sucks', 'wrong', 'dissatisfied', 'horrible', 'great', 'clueless', 'froze', 'funny', 'pathetic', 'problems', 'unfortunately', 'worthless', 'happy', 'promises', 'refund', 'criminal', 'denying', 'error', 'nightmare', 'sarcastically', 'stealing', 'unnoticed', 'available', 'shame', 'decent', 'pleasure', 'willing', 'bad', 'bait', 'disagree', 'refuse', 'sorry', 'terrible', 'amazing', 'free', 'drastically', 'slowest', 'downhill', 'loved', 'love', 'refunded', 'beware', 'scam', 'scared', 'sharp', 'screwed', 'failed', 'guarantee', 'protection', 'damage', 'damaged', 'disgusted', 'ignore', 'improper', 'incomplete', 'issue', 'lack', 'rail', 'encourage', 'complain', 'expensive', 'manipulation', 'punish', 'benefits', 'expire', 'genuine', 'honest', 'perfectly', 'trust', 'worked', 'works', 'abusive', 'dangerous', 'defective', 'hurts', 'knock', 'misfortune', 'refusal', 'refused', 'ruined', 'stranger', 'better', 'miss', 'negative', 'revenge', 'suck', 'incorrect', 'strain', 'worst', 'misfit', 'bargain', 'benefit', 'best', 'cheaper', 'cheapest', 'easier', 'exceeded', 'fair', 'fairly', 'famous', 'friendly', 'prefer', 'quicker', 'timely', 'wonder', 'worth', 'errors', 'fails', 'issues', 'limited', 'messing', 'missed', 'mistakes', 'faster', 'falling', 'garbage', 'mess', 'ruin', 'unbelievable', 'ethical', 'trustworthy', 'hell', 'rip', 'rude', 'unethical', 'steal', 'clearly', 'annoyed', 'fault', 'shit', 'stolen', 'pardon', 'positive', 'concerned', 'torment', 'unpleasant', 'losses', 'recommend', 'fake', 'joke', 'losing', 'loss', 'fail', 'excited', 'generous', 'excuses', 'insensitive', 'unacceptable', 'fine', 'support', 'awful', 'slave', 'skilled', 'demoralize', 'excuse', 'mar', 'refuses', 'scum', 'sue', 'biased', 'worse', 'sloppy', 'dispute', 'split', 'deceptive', 'lie', 'stuck', 'unwilling', 'shoddy', 'lied', 'bother', 'inconvenience', 'appalling', 'correct', 'correctly', 'enjoyed', 'gladly', 'wow', 'dismay', 'doubt', 'heck', 'incompetent', 'lame', 'randomly', 'warned', 'disgraceful', 'fast', 'suffered', 'favor', 'horrific', 'commitment', 'cheated', 'unresponsive', 'sweet', 'fraud', 'merry', 'sad', 'inaccurate', 'upgraded', 'insult', 'lies', 'retarded', 'advanced', 'enough', 'impressed', 'misinformed', 'meaningful', 'isolated', 'indifferent', 'rectify', 'pure', 'satisfactory', 'helping', 'honored', 'grand', 'competitive', 'drawbacks', 'hard', 'steals', 'regret', 'impractical', 'avid', 'hilarious', 'reasonable', 'cheap', 'complaints', 'insane', 'shock', 'wasted', 'appreciate', 'confident', 'diligently', 'easiest', 'fastest', 'hot', 'patience', 'qualify', 'broken', 'concerns', 'troubles', 'unable', 'horrid', 'messed', 'dies', 'risk', 'grief', 'fulfillment', 'proving', 'superior', 'flabbergasted', 'hang', 'infuriating', 'nonsense', 'wasting', 'trusted', 'broke', 'complaining', 'unskilled', 'abuse', 'excessive', 'vague', 'vindictive', 'profanity', 'sink', 'vanity', 'supporting', 'ripoff', 'sensitive', 'unreliable', 'clear', 'diappointed', 'rejected', 'insulting', 'happily', 'pleasant', 'savvy', 'curt', 'deny', 'fruitless', 'unavailable', 'appeal', 'helped', 'liked', 'proper', 'disregard', 'dumb', 'tricked', 'awe', 'idiots', 'wise', 'lose', 'attractive', 'arbitrary', 'blame', 'delay', 'punitive', 'monstrosity', 'illusion', 'inadequate', 'poorest', 'valuable', 'honorable', 'blah', 'dishonest', 'greedy', 'helpful', 'dirty', 'pleasing', 'difficult', 'hassle', 'asinine', 'impossible', 'junk', 'ridicules', 'interests', 'lead', 'dishonesty', 'greed', 'inferior', 'ripped', 'wonderful', 'slow', 'bothered', 'dislike', 'smooth', 'afraid', 'freaking', 'denial', 'idiot', 'stinks', 'trick', 'complaint', 'smell', 'convenience', 'convenient', 'misuse', 'cold', 'perfect', 'stole', 'warning', 'tentatively', 'frozen', 'coherent', 'consistent', 'blasted', 'blow', 'fraudulent', 'notorious', 'punishable', 'smug', 'trap', 'headache', 'shameful', 'tank', 'fell', 'poorly', 'fuck', 'enjoy', 'saver', 'super', 'delaying', 'delays', 'excessively', 'ironically', 'perturbed', 'upset', 'worry', 'complained', 'oversight', 'innocuous', 'lucky', 'egregious', 'needless', 'unfortunate', 'frustrated', 'loose', 'protective', 'success', 'undamaged', 'bent', 'crushed', 'cussed', 'deaf', 'mangled', 'oddly', 'sick', 'tired', 'trouble', 'fortune', 'nonexistent', 'assure', 'polite', 'progress', 'confusion', 'interesting', 'mislead', 'ignorant', 'negligent', 'nonresponsive', 'noble', 'erratic', 'secure', 'crooked', 'securely', 'cloud', 'cracked', 'enjoying', 'beg', 'blatantly', 'painful', 'ridiculously', 'scratches', 'shocked', 'advantage', 'foolishly', 'uninformed', 'useless', 'properly', 'thank', 'terribly', 'efficient', 'disappointment', 'endorse', 'harsh', 'reliable', 'incompetence', 'openly', 'favorite', 'misrepresentation', 'deteriorating', 'waste', 'restrict', 'failure', 'spite', 'absurd', 'deceitful', 'furious', 'pointless', 'shady', 'cheating', 'lying', 'crappy', 'confidence', 'arrogant', 'crooks', 'disappointing', 'fiasco', 'falsely', 'rot', 'abysmal', 'annoying', 'slap', 'ugh', 'lighter', 'upsetting', 'accurate', 'remedy', 'strict', 'regard', 'exhorbitant', 'safe', 'sincerely', 'loyalty', 'evil', 'impose', 'privilege', 'discrimination', 'outrageous', 'pleased', 'offending', 'violation', 'incredibly', 'questionable', 'ready', 'dissapointed', 'suffers', 'unreasonable', 'unhelpful', 'glad', 'patiently', 'captivate', 'condescending', 'excellent', 'savings', 'expired', 'headaches', 'marginal', 'proud', 'qualified', 'grossly', 'scuffs', 'unprepared', 'hate', 'fist', 'obscenity', 'faith', 'penalty', 'equitable', 'leverage', 'pains', 'pales', 'guilty', 'patronize', 'hung', 'scratched', 'supported', 'burned', 'disgusting', 'outstanding', 'stress', 'untrustworthy', 'mocked', 'weary', 'respect', 'refusing', 'grateful', 'instantly', 'safely', 'satisfy', 'harm', 'mishap', 'understandable', 'unsure', 'ruining', 'redeem', 'measly', 'invincible', 'crack', 'defect', 'promptly', 'blister', 'sorely', 'amazes', 'redemption', 'simpler', 'disgruntled', 'failures', 'irresponsible', 'scary', 'decency', 'dead', 'limit', 'sleazy', 'led', 'cheer', 'effectively', 'enjoyment', 'angry', 'dubious', 'improperly', 'ineptitude', 'breaking', 'rejection', 'unqualified', 'goof', 'patient', 'quiet', 'approval', 'rash', 'disapointed', 'vent', 'suspicious', 'crazy', 'impersonal', 'biting', 'injury', 'apprehensions', 'boycott', 'defects', 'hesitant', 'penalize', 'odd', 'sadly', 'effective', 'extraordinary', 'inevitable', 'authentic', 'responsibly', 'illegal', 'appropriate', 'continuity', 'concern', 'glitch', 'soft', 'frustration', 'discontinued', 'restriction', 'liar', 'clarity', 'fortunate', 'bullshit', 'difficulty', 'disaster', 'cheery', 'daring', 'maddening', 'badly', 'declining', 'reputable', 'damned', 'honoring', 'promise', 'blind', 'sucked', 'addicted', 'foolish', 'difficulties', 'selective', 'dark', 'break', 'drain', 'invalid', 'bogus', 'dishonestly', 'jerk', 'reward', 'loses', 'ecstatic', 'fantastic', 'happier', 'readily', 'complains', 'insignificant', 'unexpectedly', 'unnecessary', 'smart', 'lure', 'strange', 'ignorance', 'satisfied', 'displeased', 'incorrectly', 'unlucky', 'awesome', 'trusting', 'mistaken', 'confused', 'slut', 'craps', 'vice', 'premier', 'ashamed', 'draconian', 'prisoner', 'swindle', 'frown', 'irate', 'irritated', 'tumbled', 'audacity', 'insufficient', 'farce', 'miscellaneous', 'debt', 'delinquent', 'master', 'suitable', 'abused', 'collapse', 'liars', 'sneaky', 'struck', 'genius', 'corruption', 'bonus', 'faithful', 'rightfully', 'shortage', 'pain', 'champion', 'amazed', 'boom', 'smarter', 'death', 'losers', 'lousy', 'critical', 'refreshed', 'classic', 'popular', 'proven', 'recommendation', 'discriminate', 'fallen', 'idle', 'ridicule', 'troubling', 'unfulfilled', 'greatest', 'refreshing', 'picky', 'likes', 'conveniently', 'cleared', 'alienate', 'rapid', 'accuse', 'disputed', 'misleading', 'fall', 'amazement', 'dents', 'indiscriminate', 'indiscriminately', 'prompt', 'deteriorate', 'toll', 'integrated', 'significant', 'sincere', 'variety', 'welcome', 'disservice', 'misunderstanding', 'unlikely', 'morons', 'helpless', 'impolite', 'plague', 'burden', 'mysterious', 'mysteriously', 'inability', 'frustrating', 'uncaring', 'discourage', 'malicious', 'suspicion', 'drag', 'undocumented', 'feeble', 'flimsy', 'compact', 'improved', 'unreachable', 'bitter', 'damn', 'responsive', 'miraculously', 'appreciates', 'coarse', 'decline', 'facilitate', 'deluded', 'bastards', 'utterly', 'adequate', 'substandard', 'died', 'mad', 'monumental', 'aggravation', 'indifference', 'entice', 'kills', 'convience', 'fortunately', 'ironic', 'smells', 'dissatisfaction', 'insulted', 'miserably', 'unscrupulous', 'contradict', 'eminent', 'abrupt', 'concession', 'ploy', 'shabby', 'gained', 'deceit', 'concessions', 'accessible', 'bankrupt', 'bothers', 'inflated', 'denies', 'phony', 'rogue', 'golden', 'worthy', 'winner', 'convoluted', 'cruel', 'failing', 'stingy', 'struggled', 'supports', 'won', 'conflicting', 'pricey', 'panic', 'calm', 'anger', 'curse', 'enraging', 'inconceivable', 'confuse', 'unclear', 'gripe', 'struggles', 'successfully', 'transparent', 'commonplace', 'scams', 'tanks', 'complex', 'misrepresent', 'urgent', 'botch', 'suffer', 'improves', 'fun', 'fumble', 'flaw', 'dented', 'hostage', 'afford', 'privileged', 'distraught', 'horrendous', 'improvement', 'moron', 'bright', 'awsome', 'dumbfounded', 'knife', 'resent', 'incredible', 'disappoint', 'gold', 'declines', 'slower', 'bump', 'inept', 'lengthy', 'puzzled', 'disagreement', 'impressive', 'strictly', 'overwhelming', 'promising', 'supportive', 'paradise', 'powerful', 'efficiently', 'brilliant', 'sturdy', 'accurately']\n"
     ]
    }
   ],
   "source": [
    "vocab = vectorizer.get_feature_names()\n",
    "print vocab"
   ]
  },
  {
   "cell_type": "code",
   "execution_count": 5,
   "metadata": {
    "collapsed": false
   },
   "outputs": [
    {
     "name": "stdout",
     "output_type": "stream",
     "text": [
      "(790L,) Counter({0L: 720, 1L: 70})\n",
      "(790L, 884L)\n"
     ]
    }
   ],
   "source": [
    "from collections import Counter\n",
    "y = data.values[:, -1]\n",
    "print y.shape, Counter(y.tolist())\n",
    "x = train_data_features\n",
    "print x.shape"
   ]
  },
  {
   "cell_type": "markdown",
   "metadata": {},
   "source": [
    "### Logistic Regression (use Sigmoid function)"
   ]
  },
  {
   "cell_type": "code",
   "execution_count": 6,
   "metadata": {
    "collapsed": false
   },
   "outputs": [
    {
     "name": "stdout",
     "output_type": "stream",
     "text": [
      "The computational time is 8.487592\n",
      "The training error is 0.038537\n",
      "The testing error is 0.113924\n"
     ]
    }
   ],
   "source": [
    "time_start = time.clock()\n",
    "import theano\n",
    "import theano.tensor as T\n",
    "import numpy as np\n",
    "import matplotlib.pyplot as plt\n",
    "from sklearn import metrics\n",
    "from sklearn.cross_validation import KFold\n",
    "\n",
    "training_step = 100\n",
    "X = train_data_features\n",
    "Xnew = X.astype(None).reshape(X.shape)   #Change to non-type\n",
    "Y = np.array(data['class'])\n",
    "n_sample = len(Y)\n",
    "n_features = X.shape[1]\n",
    "\n",
    "\n",
    "x = T.matrix('x')\n",
    "y = T.vector('y')\n",
    "w = theano.shared(np.zeros(n_features),name = 'w')    #Start at zero vector\n",
    "b = theano.shared(0.,name = 'b')\n",
    "\n",
    "#print('Initial model:')\n",
    "#print(w.get_value(), b.get_value())\n",
    "\n",
    "prob_y_x = 1/(1+T.exp(-T.dot(x,w)-b))\n",
    "prediction = prob_y_x > 0.5\n",
    "logli = T.sum(y*T.log(prob_y_x) + (1-y)*T.log(1-prob_y_x))\n",
    "cost_function = -(logli)\n",
    "gw , gb = T.grad(cost_function,[w,b])\n",
    "\n",
    "\n",
    "train_model = theano.function(\n",
    "                        inputs = [x,y], \n",
    "                        updates = [(w, w-0.1*gw), (b, b-0.1*gb)])\n",
    "predict = theano.function(inputs = [x], outputs = prediction)\n",
    "\n",
    "\n",
    "testing_errors =[]\n",
    "training_errors =[]\n",
    "kf = KFold(790, n_folds=10)\n",
    "for train, test in kf:\n",
    "    ytrain = Y[train]\n",
    "    xtrain = Xnew[train]\n",
    "    ytest = Y[test]\n",
    "    xtest = Xnew[test]\n",
    "    for i in range(training_step):\n",
    "        train_model(xtrain,ytrain)\n",
    "    ytrain_predict = np.array(predict(xtrain))\n",
    "    ytest_predict = np.array(predict(xtest))\n",
    "    testing_errors.append(1 - metrics.accuracy_score(ytest,ytest_predict))\n",
    "    training_errors.append(1 - metrics.accuracy_score(ytrain,ytrain_predict))\n",
    "    \n",
    "time_elapsed = (time.clock() - time_start)\n",
    "print (\"The computational time is %f\") % time_elapsed\n",
    "\n",
    "print ('The training error is %f'  % np.average(training_errors))\n",
    "\n",
    "print ('The testing error is %f' % np.average(testing_errors))"
   ]
  },
  {
   "cell_type": "markdown",
   "metadata": {},
   "source": [
    "### Bernoulli Naïve Bayes"
   ]
  },
  {
   "cell_type": "code",
   "execution_count": 7,
   "metadata": {
    "collapsed": false
   },
   "outputs": [
    {
     "name": "stdout",
     "output_type": "stream",
     "text": [
      "The computational time is 0.320460\n",
      "The training error is 0.088608\n",
      "The testing error is 0.088608\n"
     ]
    }
   ],
   "source": [
    "time_start = time.clock()\n",
    "from sklearn.naive_bayes import BernoulliNB \n",
    "import numpy as np\n",
    "\n",
    "testing_errors = []\n",
    "training_errors = []\n",
    "kf = KFold(790, n_folds=10, shuffle=True)\n",
    "for train, test in kf:\n",
    "    ytrain = data['class'][train]\n",
    "    xtrain = train_data_features[train]\n",
    "    ytest = data['class'][test]\n",
    "    xtest = train_data_features[test]\n",
    "    model = BernoulliNB()\n",
    "    model.fit(xtrain, ytrain)\n",
    "    ytrain_predict = np.array(model.predict(xtrain))\n",
    "    ytest_predict = np.array(model.predict(xtest))\n",
    "    testing_errors.append(1 - metrics.accuracy_score(ytest,ytest_predict))\n",
    "    training_errors.append(1 - metrics.accuracy_score(ytrain,ytrain_predict))\n",
    "\n",
    "time_elapsed = (time.clock() - time_start)\n",
    "print (\"The computational time is %f\") % time_elapsed\n",
    "print ('The training error is %f'  % np.average(training_errors))\n",
    "\n",
    "print ('The testing error is %f' % np.average(testing_errors))"
   ]
  },
  {
   "cell_type": "markdown",
   "metadata": {},
   "source": [
    "### Multinomial Naïve Bayes"
   ]
  },
  {
   "cell_type": "code",
   "execution_count": 8,
   "metadata": {
    "collapsed": false
   },
   "outputs": [
    {
     "name": "stdout",
     "output_type": "stream",
     "text": [
      "The computational time is 0.193436\n",
      "The training error is 0.082700\n",
      "The testing error is 0.083544\n"
     ]
    }
   ],
   "source": [
    "time_start = time.clock()\n",
    "from sklearn.naive_bayes import MultinomialNB \n",
    "import numpy as np\n",
    "\n",
    "testing_errors = []\n",
    "training_errors = []\n",
    "kf = KFold(790, n_folds=10, shuffle=True)\n",
    "for train, test in kf:\n",
    "    ytrain = data['class'][train]\n",
    "    xtrain = train_data_features[train]\n",
    "    ytest = data['class'][test]\n",
    "    xtest = train_data_features[test]\n",
    "    model = MultinomialNB()\n",
    "    model.fit(xtrain, ytrain)\n",
    "    ytrain_predict = np.array(model.predict(xtrain))\n",
    "    ytest_predict = np.array(model.predict(xtest))\n",
    "    testing_errors.append(1 - metrics.accuracy_score(ytest,ytest_predict))\n",
    "    training_errors.append(1 - metrics.accuracy_score(ytrain,ytrain_predict))\n",
    "\n",
    "time_elapsed = (time.clock() - time_start)\n",
    "print (\"The computational time is %f\") % time_elapsed\n",
    "print ('The training error is %f'  % np.average(training_errors))\n",
    "\n",
    "print ('The testing error is %f' % np.average(testing_errors))"
   ]
  },
  {
   "cell_type": "markdown",
   "metadata": {},
   "source": [
    "### Support Vector Machines"
   ]
  },
  {
   "cell_type": "code",
   "execution_count": 9,
   "metadata": {
    "collapsed": false
   },
   "outputs": [
    {
     "name": "stdout",
     "output_type": "stream",
     "text": [
      "The computational time is 2.920590\n",
      "The training error is 0.088608\n",
      "The testing error is 0.088608\n"
     ]
    }
   ],
   "source": [
    "time_start = time.clock()\n",
    "from sklearn import svm\n",
    "testing_errors = []\n",
    "training_errors = []\n",
    "kf = KFold(790, n_folds=10, shuffle=True)\n",
    "for train, test in kf:\n",
    "    ytrain = data['class'][train]\n",
    "    xtrain = train_data_features[train]\n",
    "    ytest = data['class'][test]\n",
    "    xtest = train_data_features[test]\n",
    "    model = svm.SVC()\n",
    "    model.fit(xtrain, ytrain)\n",
    "    ytrain_predict = np.array(model.predict(xtrain))\n",
    "    ytest_predict = np.array(model.predict(xtest))\n",
    "    testing_errors.append(1 - metrics.accuracy_score(ytest,ytest_predict))\n",
    "    training_errors.append(1 - metrics.accuracy_score(ytrain,ytrain_predict))\n",
    "\n",
    "time_elapsed = (time.clock() - time_start)\n",
    "print (\"The computational time is %f\") % time_elapsed\n",
    "print ('The training error is %f'  % np.average(training_errors))\n",
    "\n",
    "print ('The testing error is %f' % np.average(testing_errors))"
   ]
  },
  {
   "cell_type": "markdown",
   "metadata": {},
   "source": [
    "### 3NN"
   ]
  },
  {
   "cell_type": "code",
   "execution_count": 10,
   "metadata": {
    "collapsed": false
   },
   "outputs": [
    {
     "name": "stdout",
     "output_type": "stream",
     "text": [
      "The computational time is 9.794936\n",
      "The training error is 0.066667\n",
      "The testing error is 0.091139\n"
     ]
    }
   ],
   "source": [
    "time_start = time.clock()\n",
    "from sklearn.neighbors import KNeighborsClassifier\n",
    "\n",
    "testing_errors = []\n",
    "training_errors = []\n",
    "kf = KFold(790, n_folds=10, shuffle=True)\n",
    "for train, test in kf:\n",
    "    ytrain = data['class'][train]\n",
    "    xtrain = train_data_features[train]\n",
    "    ytest = data['class'][test]\n",
    "    xtest = train_data_features[test]\n",
    "    model = KNeighborsClassifier(n_neighbors=3)\n",
    "    model.fit(xtrain, ytrain)\n",
    "    ytrain_predict = np.array(model.predict(xtrain))\n",
    "    ytest_predict = np.array(model.predict(xtest))\n",
    "    testing_errors.append(1 - metrics.accuracy_score(ytest,ytest_predict))\n",
    "    training_errors.append(1 - metrics.accuracy_score(ytrain,ytrain_predict))\n",
    "\n",
    "time_elapsed = (time.clock() - time_start)\n",
    "print (\"The computational time is %f\") % time_elapsed\n",
    "print ('The training error is %f'  % np.average(training_errors))\n",
    "\n",
    "print ('The testing error is %f' % np.average(testing_errors))"
   ]
  },
  {
   "cell_type": "markdown",
   "metadata": {},
   "source": [
    "### 4NN"
   ]
  },
  {
   "cell_type": "code",
   "execution_count": 11,
   "metadata": {
    "collapsed": false
   },
   "outputs": [
    {
     "name": "stdout",
     "output_type": "stream",
     "text": [
      "The computational time is 9.932802\n",
      "The training error is 0.072574\n",
      "The testing error is 0.097468\n"
     ]
    }
   ],
   "source": [
    "time_start = time.clock()\n",
    "from sklearn.neighbors import KNeighborsClassifier\n",
    "\n",
    "testing_errors = []\n",
    "training_errors = []\n",
    "kf = KFold(790, n_folds=10, shuffle=True)\n",
    "for train, test in kf:\n",
    "    ytrain = data['class'][train]\n",
    "    xtrain = train_data_features[train]\n",
    "    ytest = data['class'][test]\n",
    "    xtest = train_data_features[test]\n",
    "    model = KNeighborsClassifier(n_neighbors=4)\n",
    "    model.fit(xtrain, ytrain)\n",
    "    ytrain_predict = np.array(model.predict(xtrain))\n",
    "    ytest_predict = np.array(model.predict(xtest))\n",
    "    testing_errors.append(1 - metrics.accuracy_score(ytest,ytest_predict))\n",
    "    training_errors.append(1 - metrics.accuracy_score(ytrain,ytrain_predict))\n",
    "\n",
    "time_elapsed = (time.clock() - time_start)\n",
    "print (\"The computational time is %f\") % time_elapsed\n",
    "print ('The training error is %f'  % np.average(training_errors))\n",
    "\n",
    "print ('The testing error is %f' % np.average(testing_errors))"
   ]
  },
  {
   "cell_type": "markdown",
   "metadata": {},
   "source": [
    "### 5NN"
   ]
  },
  {
   "cell_type": "code",
   "execution_count": 12,
   "metadata": {
    "collapsed": false
   },
   "outputs": [
    {
     "name": "stdout",
     "output_type": "stream",
     "text": [
      "The computational time is 10.076653\n",
      "The training error is 0.074965\n",
      "The testing error is 0.093671\n"
     ]
    }
   ],
   "source": [
    "time_start = time.clock()\n",
    "from sklearn.neighbors import KNeighborsClassifier\n",
    "\n",
    "testing_errors = []\n",
    "training_errors = []\n",
    "kf = KFold(790, n_folds=10, shuffle=True)\n",
    "for train, test in kf:\n",
    "    ytrain = data['class'][train]\n",
    "    xtrain = train_data_features[train]\n",
    "    ytest = data['class'][test]\n",
    "    xtest = train_data_features[test]\n",
    "    model = KNeighborsClassifier(n_neighbors=5)\n",
    "    model.fit(xtrain, ytrain)\n",
    "    ytrain_predict = np.array(model.predict(xtrain))\n",
    "    ytest_predict = np.array(model.predict(xtest))\n",
    "    testing_errors.append(1 - metrics.accuracy_score(ytest,ytest_predict))\n",
    "    training_errors.append(1 - metrics.accuracy_score(ytrain,ytrain_predict))\n",
    "\n",
    "time_elapsed = (time.clock() - time_start)\n",
    "print (\"The computational time is %f\") % time_elapsed\n",
    "print ('The training error is %f'  % np.average(training_errors))\n",
    "\n",
    "print ('The testing error is %f' % np.average(testing_errors))"
   ]
  }
 ],
 "metadata": {
  "kernelspec": {
   "display_name": "Python 2",
   "language": "python",
   "name": "python2"
  },
  "language_info": {
   "codemirror_mode": {
    "name": "ipython",
    "version": 2
   },
   "file_extension": ".py",
   "mimetype": "text/x-python",
   "name": "python",
   "nbconvert_exporter": "python",
   "pygments_lexer": "ipython2",
   "version": "2.7.11"
  }
 },
 "nbformat": 4,
 "nbformat_minor": 0
}
